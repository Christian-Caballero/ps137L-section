{
 "cells": [
  {
   "cell_type": "markdown",
   "id": "8b6509d5-49b5-4265-95e9-f81b6d0a5d8c",
   "metadata": {},
   "source": [
    "# PS 137L: Week 3 Section \n",
    "## **Practice:** Defining Democracy and Data Visualization\n",
    "\n",
    "This week, we'll be working with the Freedom House data that we have been \n"
   ]
  },
  {
   "cell_type": "markdown",
   "id": "1faeafc4-075f-4e2c-8a53-31253f1dbb68",
   "metadata": {},
   "source": [
    "First, lets load up the dataset that we will be working with here. We will be using the raw country-year dataset from Freedom House that goes all the way back to 2013. Unfortunately, pre-2013 Freedom House uses a different scale for their rating system so comparisons pre/post 2013 are a bit tricky. In the dataset we are using however, every row represents a country in a given year, dating back to 2013. Let's take a look... "
   ]
  },
  {
   "cell_type": "code",
   "execution_count": 3,
   "id": "cc28e39f-3111-41c3-b329-12fcfa1e50f5",
   "metadata": {},
   "outputs": [
    {
     "name": "stderr",
     "output_type": "stream",
     "text": [
      "── \u001b[1mAttaching core tidyverse packages\u001b[22m ──────────────────────── tidyverse 2.0.0 ──\n",
      "\u001b[32m✔\u001b[39m \u001b[34mdplyr    \u001b[39m 1.1.4     \u001b[32m✔\u001b[39m \u001b[34mreadr    \u001b[39m 2.1.5\n",
      "\u001b[32m✔\u001b[39m \u001b[34mforcats  \u001b[39m 1.0.0     \u001b[32m✔\u001b[39m \u001b[34mstringr  \u001b[39m 1.5.1\n",
      "\u001b[32m✔\u001b[39m \u001b[34mggplot2  \u001b[39m 3.5.1     \u001b[32m✔\u001b[39m \u001b[34mtibble   \u001b[39m 3.2.1\n",
      "\u001b[32m✔\u001b[39m \u001b[34mlubridate\u001b[39m 1.9.4     \u001b[32m✔\u001b[39m \u001b[34mtidyr    \u001b[39m 1.3.1\n",
      "\u001b[32m✔\u001b[39m \u001b[34mpurrr    \u001b[39m 1.0.2     \n",
      "── \u001b[1mConflicts\u001b[22m ────────────────────────────────────────── tidyverse_conflicts() ──\n",
      "\u001b[31m✖\u001b[39m \u001b[34mdplyr\u001b[39m::\u001b[32mfilter()\u001b[39m masks \u001b[34mstats\u001b[39m::filter()\n",
      "\u001b[31m✖\u001b[39m \u001b[34mdplyr\u001b[39m::\u001b[32mlag()\u001b[39m    masks \u001b[34mstats\u001b[39m::lag()\n",
      "\u001b[36mℹ\u001b[39m Use the conflicted package (\u001b[3m\u001b[34m<http://conflicted.r-lib.org/>\u001b[39m\u001b[23m) to force all conflicts to become errors\n"
     ]
    },
    {
     "data": {
      "text/html": [
       "<table class=\"dataframe\">\n",
       "<caption>A data.frame: 6 × 44</caption>\n",
       "<thead>\n",
       "\t<tr><th></th><th scope=col>Country.Territory</th><th scope=col>Region</th><th scope=col>C.T</th><th scope=col>Edition</th><th scope=col>Status</th><th scope=col>PR.rating</th><th scope=col>CL.rating</th><th scope=col>A1</th><th scope=col>A2</th><th scope=col>A3</th><th scope=col>⋯</th><th scope=col>F3</th><th scope=col>F4</th><th scope=col>F</th><th scope=col>G1</th><th scope=col>G2</th><th scope=col>G3</th><th scope=col>G4</th><th scope=col>G</th><th scope=col>CL</th><th scope=col>Total</th></tr>\n",
       "\t<tr><th></th><th scope=col>&lt;chr&gt;</th><th scope=col>&lt;chr&gt;</th><th scope=col>&lt;chr&gt;</th><th scope=col>&lt;int&gt;</th><th scope=col>&lt;chr&gt;</th><th scope=col>&lt;int&gt;</th><th scope=col>&lt;int&gt;</th><th scope=col>&lt;int&gt;</th><th scope=col>&lt;int&gt;</th><th scope=col>&lt;int&gt;</th><th scope=col>⋯</th><th scope=col>&lt;int&gt;</th><th scope=col>&lt;int&gt;</th><th scope=col>&lt;int&gt;</th><th scope=col>&lt;int&gt;</th><th scope=col>&lt;int&gt;</th><th scope=col>&lt;int&gt;</th><th scope=col>&lt;int&gt;</th><th scope=col>&lt;int&gt;</th><th scope=col>&lt;int&gt;</th><th scope=col>&lt;int&gt;</th></tr>\n",
       "</thead>\n",
       "<tbody>\n",
       "\t<tr><th scope=row>1</th><td>Abkhazia   </td><td>Eurasia</td><td>t</td><td>2024</td><td>PF</td><td>5</td><td>5</td><td>2</td><td>2</td><td>1</td><td>⋯</td><td>1</td><td>1</td><td> 4</td><td>1</td><td>1</td><td>2</td><td>1</td><td> 5</td><td>22</td><td>39</td></tr>\n",
       "\t<tr><th scope=row>2</th><td>Afghanistan</td><td>Asia   </td><td>c</td><td>2024</td><td>NF</td><td>7</td><td>7</td><td>0</td><td>0</td><td>0</td><td>⋯</td><td>0</td><td>0</td><td> 0</td><td>0</td><td>1</td><td>0</td><td>1</td><td> 2</td><td> 5</td><td> 6</td></tr>\n",
       "\t<tr><th scope=row>3</th><td>Albania    </td><td>Europe </td><td>c</td><td>2024</td><td>PF</td><td>3</td><td>3</td><td>3</td><td>3</td><td>3</td><td>⋯</td><td>2</td><td>3</td><td>10</td><td>3</td><td>2</td><td>2</td><td>2</td><td> 9</td><td>40</td><td>68</td></tr>\n",
       "\t<tr><th scope=row>4</th><td>Algeria    </td><td>Africa </td><td>c</td><td>2024</td><td>NF</td><td>6</td><td>5</td><td>1</td><td>1</td><td>1</td><td>⋯</td><td>2</td><td>2</td><td> 6</td><td>2</td><td>2</td><td>2</td><td>1</td><td> 7</td><td>22</td><td>32</td></tr>\n",
       "\t<tr><th scope=row>5</th><td>Andorra    </td><td>Europe </td><td>c</td><td>2024</td><td>F </td><td>1</td><td>1</td><td>4</td><td>4</td><td>4</td><td>⋯</td><td>4</td><td>3</td><td>15</td><td>4</td><td>4</td><td>3</td><td>4</td><td>15</td><td>55</td><td>93</td></tr>\n",
       "\t<tr><th scope=row>6</th><td>Angola     </td><td>Africa </td><td>c</td><td>2024</td><td>NF</td><td>6</td><td>5</td><td>0</td><td>2</td><td>1</td><td>⋯</td><td>1</td><td>2</td><td> 5</td><td>1</td><td>1</td><td>1</td><td>0</td><td> 3</td><td>18</td><td>28</td></tr>\n",
       "</tbody>\n",
       "</table>\n"
      ],
      "text/latex": [
       "A data.frame: 6 × 44\n",
       "\\begin{tabular}{r|lllllllllllllllllllll}\n",
       "  & Country.Territory & Region & C.T & Edition & Status & PR.rating & CL.rating & A1 & A2 & A3 & ⋯ & F3 & F4 & F & G1 & G2 & G3 & G4 & G & CL & Total\\\\\n",
       "  & <chr> & <chr> & <chr> & <int> & <chr> & <int> & <int> & <int> & <int> & <int> & ⋯ & <int> & <int> & <int> & <int> & <int> & <int> & <int> & <int> & <int> & <int>\\\\\n",
       "\\hline\n",
       "\t1 & Abkhazia    & Eurasia & t & 2024 & PF & 5 & 5 & 2 & 2 & 1 & ⋯ & 1 & 1 &  4 & 1 & 1 & 2 & 1 &  5 & 22 & 39\\\\\n",
       "\t2 & Afghanistan & Asia    & c & 2024 & NF & 7 & 7 & 0 & 0 & 0 & ⋯ & 0 & 0 &  0 & 0 & 1 & 0 & 1 &  2 &  5 &  6\\\\\n",
       "\t3 & Albania     & Europe  & c & 2024 & PF & 3 & 3 & 3 & 3 & 3 & ⋯ & 2 & 3 & 10 & 3 & 2 & 2 & 2 &  9 & 40 & 68\\\\\n",
       "\t4 & Algeria     & Africa  & c & 2024 & NF & 6 & 5 & 1 & 1 & 1 & ⋯ & 2 & 2 &  6 & 2 & 2 & 2 & 1 &  7 & 22 & 32\\\\\n",
       "\t5 & Andorra     & Europe  & c & 2024 & F  & 1 & 1 & 4 & 4 & 4 & ⋯ & 4 & 3 & 15 & 4 & 4 & 3 & 4 & 15 & 55 & 93\\\\\n",
       "\t6 & Angola      & Africa  & c & 2024 & NF & 6 & 5 & 0 & 2 & 1 & ⋯ & 1 & 2 &  5 & 1 & 1 & 1 & 0 &  3 & 18 & 28\\\\\n",
       "\\end{tabular}\n"
      ],
      "text/markdown": [
       "\n",
       "A data.frame: 6 × 44\n",
       "\n",
       "| <!--/--> | Country.Territory &lt;chr&gt; | Region &lt;chr&gt; | C.T &lt;chr&gt; | Edition &lt;int&gt; | Status &lt;chr&gt; | PR.rating &lt;int&gt; | CL.rating &lt;int&gt; | A1 &lt;int&gt; | A2 &lt;int&gt; | A3 &lt;int&gt; | ⋯ ⋯ | F3 &lt;int&gt; | F4 &lt;int&gt; | F &lt;int&gt; | G1 &lt;int&gt; | G2 &lt;int&gt; | G3 &lt;int&gt; | G4 &lt;int&gt; | G &lt;int&gt; | CL &lt;int&gt; | Total &lt;int&gt; |\n",
       "|---|---|---|---|---|---|---|---|---|---|---|---|---|---|---|---|---|---|---|---|---|---|\n",
       "| 1 | Abkhazia    | Eurasia | t | 2024 | PF | 5 | 5 | 2 | 2 | 1 | ⋯ | 1 | 1 |  4 | 1 | 1 | 2 | 1 |  5 | 22 | 39 |\n",
       "| 2 | Afghanistan | Asia    | c | 2024 | NF | 7 | 7 | 0 | 0 | 0 | ⋯ | 0 | 0 |  0 | 0 | 1 | 0 | 1 |  2 |  5 |  6 |\n",
       "| 3 | Albania     | Europe  | c | 2024 | PF | 3 | 3 | 3 | 3 | 3 | ⋯ | 2 | 3 | 10 | 3 | 2 | 2 | 2 |  9 | 40 | 68 |\n",
       "| 4 | Algeria     | Africa  | c | 2024 | NF | 6 | 5 | 1 | 1 | 1 | ⋯ | 2 | 2 |  6 | 2 | 2 | 2 | 1 |  7 | 22 | 32 |\n",
       "| 5 | Andorra     | Europe  | c | 2024 | F  | 1 | 1 | 4 | 4 | 4 | ⋯ | 4 | 3 | 15 | 4 | 4 | 3 | 4 | 15 | 55 | 93 |\n",
       "| 6 | Angola      | Africa  | c | 2024 | NF | 6 | 5 | 0 | 2 | 1 | ⋯ | 1 | 2 |  5 | 1 | 1 | 1 | 0 |  3 | 18 | 28 |\n",
       "\n"
      ],
      "text/plain": [
       "  Country.Territory Region  C.T Edition Status PR.rating CL.rating A1 A2 A3 ⋯\n",
       "1 Abkhazia          Eurasia t   2024    PF     5         5         2  2  1  ⋯\n",
       "2 Afghanistan       Asia    c   2024    NF     7         7         0  0  0  ⋯\n",
       "3 Albania           Europe  c   2024    PF     3         3         3  3  3  ⋯\n",
       "4 Algeria           Africa  c   2024    NF     6         5         1  1  1  ⋯\n",
       "5 Andorra           Europe  c   2024    F      1         1         4  4  4  ⋯\n",
       "6 Angola            Africa  c   2024    NF     6         5         0  2  1  ⋯\n",
       "  F3 F4 F  G1 G2 G3 G4 G  CL Total\n",
       "1 1  1   4 1  1  2  1   5 22 39   \n",
       "2 0  0   0 0  1  0  1   2  5  6   \n",
       "3 2  3  10 3  2  2  2   9 40 68   \n",
       "4 2  2   6 2  2  2  1   7 22 32   \n",
       "5 4  3  15 4  4  3  4  15 55 93   \n",
       "6 1  2   5 1  1  1  0   3 18 28   "
      ]
     },
     "metadata": {},
     "output_type": "display_data"
    }
   ],
   "source": [
    "# run this cell!\n",
    "library(tidyverse)\n",
    "data <- read.csv(\"./data.csv\")\n",
    "head(data)"
   ]
  },
  {
   "cell_type": "markdown",
   "id": "9aa89119-c0c2-4352-ba86-c5f126cf0e99",
   "metadata": {},
   "source": [
    "Typically, when working with a dataset like this, the data provider will also provide a ``codebook,'' which is a guide that lets you understand what each column name is. I've taken their codebook and provided a general key below:"
   ]
  },
  {
   "cell_type": "raw",
   "id": "f98b5ad3-be9b-4c66-bf96-edb2c0a9246e",
   "metadata": {},
   "source": [
    "C/T? indicates whether the entry is a country (c) or territory (t)\t\t\t\t\t\t\t\t\t\t\n",
    "F=Free, PF=Partly Free, NF=Not Free\t\t\t\t\t\t\t\t\t\t\n",
    "PR Rating=Political Rights Rating\t\t\t\t\t\t\t\t\t\t\n",
    "CL Rating=Civil Liberties Rating\t\t\t\t\t\t\t\t\t\t\n",
    "A =aggregate score for the A. Electoral Process subcategory\t\t\t\t\t\t\t\t\t\t\n",
    "B =aggregate score for the B. Political Pluralism and Participation subcategory\t\t\t\t\t\t\t\t\t\t\n",
    "C =aggregate score for the C. Functioning of Government subcategory\t\t\t\t\t\t\t\t\t\t\n",
    "Add Q (Add B)=score for Additional Discretionary Question (B)\t\t\t\t\t\t\t\t\t\t\n",
    "Add A=score for Additional Discretionary Question A\t\t\t\t\t\t\t\t\t\t\n",
    "PR =aggregate score for the Political Rights category\t\t\t\t\t\t\t\t\t\t\n",
    "D =aggregate score for the D. Freedom of Expression and Belief subcategory\t\t\t\t\t\t\t\t\t\t\n",
    "E =aggregate score for the E. Associational and Organizational Rights subcategory\t\t\t\t\t\t\t\t\t\t\n",
    "F =aggregate score for the F. Rule of Law subcategory\t\t\t\t\t\t\t\t\t\t\n",
    "G =aggregate score for te G. Personal Autonomy and Individual Rights subcategory\t\t\t\t\t\t\t\t\t\t\n",
    "CL =aggregate score for the Civil Liberties category\t\t\t\t\t\t\t\t\t\t\n",
    "Total =aggregate score for all categories\t\t\t\t\t\t\t\t\t\t"
   ]
  },
  {
   "cell_type": "code",
   "execution_count": 4,
   "id": "075017ae-bb2a-4e8a-a7a4-c9a540deb6ca",
   "metadata": {},
   "outputs": [
    {
     "data": {
      "text/html": [
       "<table class=\"dataframe\">\n",
       "<caption>A data.frame: 6 × 44</caption>\n",
       "<thead>\n",
       "\t<tr><th></th><th scope=col>Country.Territory</th><th scope=col>Region</th><th scope=col>C.T</th><th scope=col>Edition</th><th scope=col>Status</th><th scope=col>PR.rating</th><th scope=col>CL.rating</th><th scope=col>A1</th><th scope=col>A2</th><th scope=col>A3</th><th scope=col>⋯</th><th scope=col>F3</th><th scope=col>F4</th><th scope=col>F</th><th scope=col>G1</th><th scope=col>G2</th><th scope=col>G3</th><th scope=col>G4</th><th scope=col>G</th><th scope=col>CL</th><th scope=col>Total</th></tr>\n",
       "\t<tr><th></th><th scope=col>&lt;chr&gt;</th><th scope=col>&lt;chr&gt;</th><th scope=col>&lt;chr&gt;</th><th scope=col>&lt;int&gt;</th><th scope=col>&lt;chr&gt;</th><th scope=col>&lt;int&gt;</th><th scope=col>&lt;int&gt;</th><th scope=col>&lt;int&gt;</th><th scope=col>&lt;int&gt;</th><th scope=col>&lt;int&gt;</th><th scope=col>⋯</th><th scope=col>&lt;int&gt;</th><th scope=col>&lt;int&gt;</th><th scope=col>&lt;int&gt;</th><th scope=col>&lt;int&gt;</th><th scope=col>&lt;int&gt;</th><th scope=col>&lt;int&gt;</th><th scope=col>&lt;int&gt;</th><th scope=col>&lt;int&gt;</th><th scope=col>&lt;int&gt;</th><th scope=col>&lt;int&gt;</th></tr>\n",
       "</thead>\n",
       "<tbody>\n",
       "\t<tr><th scope=row>4</th><td>Algeria</td><td>Africa</td><td>c</td><td>2024</td><td>NF</td><td>6</td><td>5</td><td>1</td><td>1</td><td>1</td><td>⋯</td><td>2</td><td>2</td><td>6</td><td>2</td><td>2</td><td>2</td><td>1</td><td>7</td><td>22</td><td>32</td></tr>\n",
       "\t<tr><th scope=row>214</th><td>Algeria</td><td>Africa</td><td>c</td><td>2023</td><td>NF</td><td>6</td><td>5</td><td>1</td><td>1</td><td>1</td><td>⋯</td><td>2</td><td>2</td><td>6</td><td>2</td><td>2</td><td>2</td><td>1</td><td>7</td><td>22</td><td>32</td></tr>\n",
       "\t<tr><th scope=row>424</th><td>Algeria</td><td>Africa</td><td>c</td><td>2022</td><td>NF</td><td>6</td><td>5</td><td>1</td><td>1</td><td>1</td><td>⋯</td><td>2</td><td>2</td><td>6</td><td>2</td><td>2</td><td>2</td><td>1</td><td>7</td><td>22</td><td>32</td></tr>\n",
       "\t<tr><th scope=row>634</th><td>Algeria</td><td>Africa</td><td>c</td><td>2021</td><td>NF</td><td>6</td><td>5</td><td>1</td><td>1</td><td>1</td><td>⋯</td><td>2</td><td>2</td><td>6</td><td>2</td><td>2</td><td>2</td><td>1</td><td>7</td><td>22</td><td>32</td></tr>\n",
       "\t<tr><th scope=row>844</th><td>Algeria</td><td>Africa</td><td>c</td><td>2020</td><td>NF</td><td>6</td><td>5</td><td>1</td><td>1</td><td>1</td><td>⋯</td><td>2</td><td>2</td><td>6</td><td>2</td><td>2</td><td>2</td><td>1</td><td>7</td><td>24</td><td>34</td></tr>\n",
       "\t<tr><th scope=row>1054</th><td>Algeria</td><td>Africa</td><td>c</td><td>2019</td><td>NF</td><td>6</td><td>5</td><td>1</td><td>1</td><td>1</td><td>⋯</td><td>2</td><td>2</td><td>6</td><td>2</td><td>2</td><td>2</td><td>1</td><td>7</td><td>24</td><td>34</td></tr>\n",
       "</tbody>\n",
       "</table>\n"
      ],
      "text/latex": [
       "A data.frame: 6 × 44\n",
       "\\begin{tabular}{r|lllllllllllllllllllll}\n",
       "  & Country.Territory & Region & C.T & Edition & Status & PR.rating & CL.rating & A1 & A2 & A3 & ⋯ & F3 & F4 & F & G1 & G2 & G3 & G4 & G & CL & Total\\\\\n",
       "  & <chr> & <chr> & <chr> & <int> & <chr> & <int> & <int> & <int> & <int> & <int> & ⋯ & <int> & <int> & <int> & <int> & <int> & <int> & <int> & <int> & <int> & <int>\\\\\n",
       "\\hline\n",
       "\t4 & Algeria & Africa & c & 2024 & NF & 6 & 5 & 1 & 1 & 1 & ⋯ & 2 & 2 & 6 & 2 & 2 & 2 & 1 & 7 & 22 & 32\\\\\n",
       "\t214 & Algeria & Africa & c & 2023 & NF & 6 & 5 & 1 & 1 & 1 & ⋯ & 2 & 2 & 6 & 2 & 2 & 2 & 1 & 7 & 22 & 32\\\\\n",
       "\t424 & Algeria & Africa & c & 2022 & NF & 6 & 5 & 1 & 1 & 1 & ⋯ & 2 & 2 & 6 & 2 & 2 & 2 & 1 & 7 & 22 & 32\\\\\n",
       "\t634 & Algeria & Africa & c & 2021 & NF & 6 & 5 & 1 & 1 & 1 & ⋯ & 2 & 2 & 6 & 2 & 2 & 2 & 1 & 7 & 22 & 32\\\\\n",
       "\t844 & Algeria & Africa & c & 2020 & NF & 6 & 5 & 1 & 1 & 1 & ⋯ & 2 & 2 & 6 & 2 & 2 & 2 & 1 & 7 & 24 & 34\\\\\n",
       "\t1054 & Algeria & Africa & c & 2019 & NF & 6 & 5 & 1 & 1 & 1 & ⋯ & 2 & 2 & 6 & 2 & 2 & 2 & 1 & 7 & 24 & 34\\\\\n",
       "\\end{tabular}\n"
      ],
      "text/markdown": [
       "\n",
       "A data.frame: 6 × 44\n",
       "\n",
       "| <!--/--> | Country.Territory &lt;chr&gt; | Region &lt;chr&gt; | C.T &lt;chr&gt; | Edition &lt;int&gt; | Status &lt;chr&gt; | PR.rating &lt;int&gt; | CL.rating &lt;int&gt; | A1 &lt;int&gt; | A2 &lt;int&gt; | A3 &lt;int&gt; | ⋯ ⋯ | F3 &lt;int&gt; | F4 &lt;int&gt; | F &lt;int&gt; | G1 &lt;int&gt; | G2 &lt;int&gt; | G3 &lt;int&gt; | G4 &lt;int&gt; | G &lt;int&gt; | CL &lt;int&gt; | Total &lt;int&gt; |\n",
       "|---|---|---|---|---|---|---|---|---|---|---|---|---|---|---|---|---|---|---|---|---|---|\n",
       "| 4 | Algeria | Africa | c | 2024 | NF | 6 | 5 | 1 | 1 | 1 | ⋯ | 2 | 2 | 6 | 2 | 2 | 2 | 1 | 7 | 22 | 32 |\n",
       "| 214 | Algeria | Africa | c | 2023 | NF | 6 | 5 | 1 | 1 | 1 | ⋯ | 2 | 2 | 6 | 2 | 2 | 2 | 1 | 7 | 22 | 32 |\n",
       "| 424 | Algeria | Africa | c | 2022 | NF | 6 | 5 | 1 | 1 | 1 | ⋯ | 2 | 2 | 6 | 2 | 2 | 2 | 1 | 7 | 22 | 32 |\n",
       "| 634 | Algeria | Africa | c | 2021 | NF | 6 | 5 | 1 | 1 | 1 | ⋯ | 2 | 2 | 6 | 2 | 2 | 2 | 1 | 7 | 22 | 32 |\n",
       "| 844 | Algeria | Africa | c | 2020 | NF | 6 | 5 | 1 | 1 | 1 | ⋯ | 2 | 2 | 6 | 2 | 2 | 2 | 1 | 7 | 24 | 34 |\n",
       "| 1054 | Algeria | Africa | c | 2019 | NF | 6 | 5 | 1 | 1 | 1 | ⋯ | 2 | 2 | 6 | 2 | 2 | 2 | 1 | 7 | 24 | 34 |\n",
       "\n"
      ],
      "text/plain": [
       "     Country.Territory Region C.T Edition Status PR.rating CL.rating A1 A2 A3 ⋯\n",
       "4    Algeria           Africa c   2024    NF     6         5         1  1  1  ⋯\n",
       "214  Algeria           Africa c   2023    NF     6         5         1  1  1  ⋯\n",
       "424  Algeria           Africa c   2022    NF     6         5         1  1  1  ⋯\n",
       "634  Algeria           Africa c   2021    NF     6         5         1  1  1  ⋯\n",
       "844  Algeria           Africa c   2020    NF     6         5         1  1  1  ⋯\n",
       "1054 Algeria           Africa c   2019    NF     6         5         1  1  1  ⋯\n",
       "     F3 F4 F G1 G2 G3 G4 G CL Total\n",
       "4    2  2  6 2  2  2  1  7 22 32   \n",
       "214  2  2  6 2  2  2  1  7 22 32   \n",
       "424  2  2  6 2  2  2  1  7 22 32   \n",
       "634  2  2  6 2  2  2  1  7 22 32   \n",
       "844  2  2  6 2  2  2  1  7 24 34   \n",
       "1054 2  2  6 2  2  2  1  7 24 34   "
      ]
     },
     "metadata": {},
     "output_type": "display_data"
    }
   ],
   "source": [
    "country_name <- \"[FILL]\" #fill in your country here\n",
    "filtered_data <- data[data$Country.Territory == country_name, ] # filter the data to only rows that coorespond to your country\n",
    "head(filtered_data)"
   ]
  },
  {
   "cell_type": "code",
   "execution_count": 5,
   "id": "1c0b3629-4acc-4e00-94e4-c5aa55a05195",
   "metadata": {},
   "outputs": [
    {
     "data": {
      "image/png": "[encoded data removed]",
      "text/plain": [
       "Plot with title “Score Over Time for Algeria”"
      ]
     },
     "metadata": {
      "image/png": {
       "height": 420,
       "width": 420
      }
     },
     "output_type": "display_data"
    }
   ],
   "source": [
    "# construct a plot of your country's total score from 2013 - 2024\n",
    "plot(filtered_data$[FILL], filtered_data$[FILL], type=\"b\", \n",
    "     main=paste(\"FH Score Over Time for\", country_name), \n",
    "     xlab=\"Year\", ylab=\"Score\", \n",
    "     pch=16, col=\"blue\", lty=1, \n",
    "     yaxt=\"n\")\n",
    "\n",
    "#this line just adjusts the y-axis to make sure it uses only integers \n",
    "axis(2, at=round(seq(min(filtered_data$Total), max(filtered_data$Total), by=1)), las=1)\n"
   ]
  },
  {
   "cell_type": "markdown",
   "id": "a27bb5a7-9e21-4ca3-bef2-5e7b22ce31ad",
   "metadata": {},
   "source": [
    "Describe the patterns you see in your country's last 10 year? Does it go up/down slowly? Is it stable? Does the score drastically change in a given year? "
   ]
  },
  {
   "cell_type": "markdown",
   "id": "472c14ed-e7d3-4b26-8ba1-7caadcfc220b",
   "metadata": {},
   "source": [
    "[YOUR ANSWER HERE]"
   ]
  },
  {
   "cell_type": "markdown",
   "id": "047e744a-2cc4-4030-944c-7142113148f4",
   "metadata": {},
   "source": [
    "Now, let's make a plot that lets us decompose the \"Total\" score into its 2 compontent parts-- civil liberty and political rights. Which columns in the dataset correspond to the two components?"
   ]
  },
  {
   "cell_type": "code",
   "execution_count": 36,
   "id": "6920d5ba-b808-41ec-a219-f66936a9b4bb",
   "metadata": {},
   "outputs": [
    {
     "ename": "ERROR",
     "evalue": "Error in parse(text = input): <text>:2:43: unexpected '['\n1: # plot political rights\n2: plot(filtered_data$Edition, filtered_data$[\n                                             ^\n",
     "output_type": "error",
     "traceback": [
      "Error in parse(text = input): <text>:2:43: unexpected '['\n1: # plot political rights\n2: plot(filtered_data$Edition, filtered_data$[\n                                             ^\nTraceback:\n"
     ]
    }
   ],
   "source": [
    "# plot political rights\n",
    "plot(filtered_data$Edition, filtered_data$[FILL], type=\"b\", \n",
    "     main=paste(\"FH Score Breakdown Over Time for\", country_name), \n",
    "     xlab=\"Year\", ylab=\"Score\", \n",
    "     pch=16, col=\"blue\", lty=1, \n",
    "     yaxt=\"n\")\n",
    "par(new=TRUE)\n",
    "#plot civil liberties\n",
    "plot(filtered_data$Edition, filtered_data$CL, type=\"b\", \n",
    "     xlab=\"\", ylab=\"\", xaxt=\"n\", yaxt=\"n\", \n",
    "     pch=17, col=\"red\", lty=1)\n",
    "\n",
    "# Add legend\n",
    "legend(\"topright\", legend=c(\"PR: Political Rights\", \"CL: Civil Liberties\"), \n",
    "       col=c(\"blue\", \"red\"), pch=c(16, 17), lty=c(1, 2))\n",
    "# Add y-axis\n",
    "axis(2, at=seq(min(filtered_data$PR, filtered_data$CL), max(filtered_data$PR, filtered_data$CL), by=1)) \n"
   ]
  },
  {
   "cell_type": "markdown",
   "id": "0e426f10-6e40-4671-b0cb-f6b44abe04ad",
   "metadata": {},
   "source": [
    "Does this plot reveal any interesting patterns?"
   ]
  },
  {
   "cell_type": "markdown",
   "id": "1ee8327f-a592-49a2-8c7c-d5bdff4b22e9",
   "metadata": {},
   "source": [
    "[YOUR ANSWER HERE]"
   ]
  },
  {
   "cell_type": "markdown",
   "id": "a5e9bd8b-2390-482d-b317-a8e0983db2b2",
   "metadata": {},
   "source": [
    "Now, lets see what specific things are driving changes in **one** of the seven subcategories (A, B, C...,G). Pick a category. Lets plot the scores across every year for each individual item in a subcategory, as well as the total score for that subcategory overlayed to better visualize what is driving changes in these subcategory scores"
   ]
  },
  {
   "cell_type": "code",
   "execution_count": 17,
   "id": "520a47e6-57f4-4ff4-966b-33dd3fbd4592",
   "metadata": {},
   "outputs": [
    {
     "data": {
      "text/html": [
       "<style>\n",
       ".list-inline {list-style: none; margin:0; padding: 0}\n",
       ".list-inline>li {display: inline-block}\n",
       ".list-inline>li:not(:last-child)::after {content: \"\\00b7\"; padding: 0 .5ex}\n",
       "</style>\n",
       "<ol class=list-inline><li>'Country.Territory'</li><li>'Region'</li><li>'C.T'</li><li>'Edition'</li><li>'Status'</li><li>'PR.rating'</li><li>'CL.rating'</li><li>'A1'</li><li>'A2'</li><li>'A3'</li><li>'A'</li><li>'B1'</li><li>'B2'</li><li>'B3'</li><li>'B4'</li><li>'B'</li><li>'C1'</li><li>'C2'</li><li>'C3'</li><li>'C'</li><li>'Add.Q'</li><li>'Add.A'</li><li>'PR'</li><li>'D1'</li><li>'D2'</li><li>'D3'</li><li>'D4'</li><li>'D'</li><li>'E1'</li><li>'E2'</li><li>'E3'</li><li>'E'</li><li>'F1'</li><li>'F2'</li><li>'F3'</li><li>'F4'</li><li>'F'</li><li>'G1'</li><li>'G2'</li><li>'G3'</li><li>'G4'</li><li>'G'</li><li>'CL'</li><li>'Total'</li></ol>\n"
      ],
      "text/latex": [
       "\\begin{enumerate*}\n",
       "\\item 'Country.Territory'\n",
       "\\item 'Region'\n",
       "\\item 'C.T'\n",
       "\\item 'Edition'\n",
       "\\item 'Status'\n",
       "\\item 'PR.rating'\n",
       "\\item 'CL.rating'\n",
       "\\item 'A1'\n",
       "\\item 'A2'\n",
       "\\item 'A3'\n",
       "\\item 'A'\n",
       "\\item 'B1'\n",
       "\\item 'B2'\n",
       "\\item 'B3'\n",
       "\\item 'B4'\n",
       "\\item 'B'\n",
       "\\item 'C1'\n",
       "\\item 'C2'\n",
       "\\item 'C3'\n",
       "\\item 'C'\n",
       "\\item 'Add.Q'\n",
       "\\item 'Add.A'\n",
       "\\item 'PR'\n",
       "\\item 'D1'\n",
       "\\item 'D2'\n",
       "\\item 'D3'\n",
       "\\item 'D4'\n",
       "\\item 'D'\n",
       "\\item 'E1'\n",
       "\\item 'E2'\n",
       "\\item 'E3'\n",
       "\\item 'E'\n",
       "\\item 'F1'\n",
       "\\item 'F2'\n",
       "\\item 'F3'\n",
       "\\item 'F4'\n",
       "\\item 'F'\n",
       "\\item 'G1'\n",
       "\\item 'G2'\n",
       "\\item 'G3'\n",
       "\\item 'G4'\n",
       "\\item 'G'\n",
       "\\item 'CL'\n",
       "\\item 'Total'\n",
       "\\end{enumerate*}\n"
      ],
      "text/markdown": [
       "1. 'Country.Territory'\n",
       "2. 'Region'\n",
       "3. 'C.T'\n",
       "4. 'Edition'\n",
       "5. 'Status'\n",
       "6. 'PR.rating'\n",
       "7. 'CL.rating'\n",
       "8. 'A1'\n",
       "9. 'A2'\n",
       "10. 'A3'\n",
       "11. 'A'\n",
       "12. 'B1'\n",
       "13. 'B2'\n",
       "14. 'B3'\n",
       "15. 'B4'\n",
       "16. 'B'\n",
       "17. 'C1'\n",
       "18. 'C2'\n",
       "19. 'C3'\n",
       "20. 'C'\n",
       "21. 'Add.Q'\n",
       "22. 'Add.A'\n",
       "23. 'PR'\n",
       "24. 'D1'\n",
       "25. 'D2'\n",
       "26. 'D3'\n",
       "27. 'D4'\n",
       "28. 'D'\n",
       "29. 'E1'\n",
       "30. 'E2'\n",
       "31. 'E3'\n",
       "32. 'E'\n",
       "33. 'F1'\n",
       "34. 'F2'\n",
       "35. 'F3'\n",
       "36. 'F4'\n",
       "37. 'F'\n",
       "38. 'G1'\n",
       "39. 'G2'\n",
       "40. 'G3'\n",
       "41. 'G4'\n",
       "42. 'G'\n",
       "43. 'CL'\n",
       "44. 'Total'\n",
       "\n",
       "\n"
      ],
      "text/plain": [
       " [1] \"Country.Territory\" \"Region\"            \"C.T\"              \n",
       " [4] \"Edition\"           \"Status\"            \"PR.rating\"        \n",
       " [7] \"CL.rating\"         \"A1\"                \"A2\"               \n",
       "[10] \"A3\"                \"A\"                 \"B1\"               \n",
       "[13] \"B2\"                \"B3\"                \"B4\"               \n",
       "[16] \"B\"                 \"C1\"                \"C2\"               \n",
       "[19] \"C3\"                \"C\"                 \"Add.Q\"            \n",
       "[22] \"Add.A\"             \"PR\"                \"D1\"               \n",
       "[25] \"D2\"                \"D3\"                \"D4\"               \n",
       "[28] \"D\"                 \"E1\"                \"E2\"               \n",
       "[31] \"E3\"                \"E\"                 \"F1\"               \n",
       "[34] \"F2\"                \"F3\"                \"F4\"               \n",
       "[37] \"F\"                 \"G1\"                \"G2\"               \n",
       "[40] \"G3\"                \"G4\"                \"G\"                \n",
       "[43] \"CL\"                \"Total\"            "
      ]
     },
     "metadata": {},
     "output_type": "display_data"
    }
   ],
   "source": [
    " names(filtered_data) #This line of code lists the names of every column. It will let you see how many items are in each subcategory."
   ]
  },
  {
   "cell_type": "code",
   "execution_count": 35,
   "id": "6ad5523a-c290-4cc7-9606-fd37986ae052",
   "metadata": {},
   "outputs": [
    {
     "data": {
      "image/png": "[encoded data removed]",
      "text/plain": [
       "Plot with title “Subcategory [FILL] Over Time for Algeria”"
      ]
     },
     "metadata": {
      "image/png": {
       "height": 420,
       "width": 420
      }
     },
     "output_type": "display_data"
    }
   ],
   "source": [
    "# Plot your subcategory items and the subcategory total with jittered x-axis. Jittering slightly shifts data points along the x-axis to \n",
    "# reduce overlap, making it easier to distinguish individual observations in crowded plots.\n",
    "\n",
    "# first, plot the subcategory total (using A as example-- you must pick other subcategory!)\n",
    "plot(jitter(filtered_data$Edition, amount=0.2), filtered_data$A, type=\"b\", col=\"blue\", \n",
    "     pch=16, lty=1, lwd=1,\n",
    "     main=paste(\"Subcategory [FILL] Over Time for\", country_name),\n",
    "     xlab=\"Year\", ylab=\"Score\",\n",
    "     ylim=range(filtered_data[, c(\"A1\", \"A2\", \"A3\", \"A\")], na.rm=TRUE))\n",
    "\n",
    "# Then, add the subcategory components to the plot \n",
    "points(jitter(filtered_data$Edition, amount=0.2), filtered_data$A1, type=\"b\", col=\"red\", \n",
    "       pch=16, lty=2)\n",
    "points(jitter(filtered_data$Edition, amount=0.2), filtered_data$A2, type=\"b\", col=\"orange\", \n",
    "       pch=16, lty=3)\n",
    "points(jitter(filtered_data$Edition, amount=0.2), filtered_data$A3, type=\"b\", col=\"black\", \n",
    "       pch=16, lty=1 )\n",
    "\n",
    "# Add legend\n",
    "legend(\"topright\", legend=c(\"A1\", \"A2\", \"A3\", \"Total A\"), \n",
    "       col=c(\"red\", \"orange\", \"black\", \"blue\"), \n",
    "       pch=c(16, 16, 16, 16), lty=c(1, 1, 1, 1), lwd=c(1, 1, 1, 1))\n"
   ]
  },
  {
   "cell_type": "markdown",
   "id": "01e5aacc-5013-46d0-8f91-c1063b900b0e",
   "metadata": {},
   "source": [
    "What does this plot reveal? (Remember, the Total variable is a composite measure of all of the items in that subcategory) Do you find this to be a useful visualization? Try and describe  another visualizations you might want to do to get a better sense of how democracy has changed in your case country."
   ]
  },
  {
   "cell_type": "markdown",
   "id": "acab9404-0e82-4932-84ec-c5b4e5cd08ee",
   "metadata": {},
   "source": [
    "[YOUR ANSWER]"
   ]
  },
  {
   "cell_type": "markdown",
   "id": "6595a3b3-14fe-4033-8728-e35c6580bc89",
   "metadata": {},
   "source": [
    "### Woooooo thats itttttt "
   ]
  }
 ],
 "metadata": {
  "kernelspec": {
   "display_name": "R",
   "language": "R",
   "name": "ir"
  },
  "language_info": {
   "codemirror_mode": "r",
   "file_extension": ".r",
   "mimetype": "text/x-r-source",
   "name": "R",
   "pygments_lexer": "r",
   "version": "4.4.2"
  }
 },
 "nbformat": 4,
 "nbformat_minor": 5
}
